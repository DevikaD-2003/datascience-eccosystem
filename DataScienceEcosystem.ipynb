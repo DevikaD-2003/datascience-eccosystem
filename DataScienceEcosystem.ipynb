{
 "cells": [
  {
   "cell_type": "markdown",
   "id": "004909a0-d6d9-4280-a684-329c119be26e",
   "metadata": {},
   "source": [
    "# Data Science Tools and Ecosystem"
   ]
  },
  {
   "cell_type": "markdown",
   "id": "41eb5a1c-afb8-49d1-81a4-815371366a7f",
   "metadata": {},
   "source": [
    "In this notebook, Data Science Tools and Ecosystem are summarized.\n"
   ]
  },
  {
   "cell_type": "markdown",
   "id": "8ece33f6-cc3d-4242-8026-ab5ea9726961",
   "metadata": {},
   "source": [
    "Some of the popular languages that Data Scientists use are:\n",
    "\n",
    "1. Python  \n",
    "2. R  \n",
    "3. SQL  \n",
    "4. Julia  \n"
   ]
  },
  {
   "cell_type": "markdown",
   "id": "02869e80-ce5b-4a17-83e7-c9b5c86f6399",
   "metadata": {},
   "source": [
    "Some of the commonly used libraries used by Data Scientists include:\n",
    "\n",
    "1. pandas  \n",
    "2. NumPy  \n",
    "3. ggplot2  \n",
    "4. caret  \n"
   ]
  },
  {
   "cell_type": "markdown",
   "id": "ecaccf8d-63d1-46df-94ce-84c0c64ba9cf",
   "metadata": {},
   "source": [
    "| Data Science Tools     |\n",
    "|------------------------|\n",
    "| Jupyter Notebook       |\n",
    "| RStudio                |\n",
    "| Apache Zeppelin        |\n"
   ]
  },
  {
   "cell_type": "code",
   "execution_count": 2,
   "id": "757fdd18-a5cf-41e3-8a26-b3ef45bd06c6",
   "metadata": {},
   "outputs": [
    {
     "data": {
      "text/plain": [
       "17"
      ]
     },
     "execution_count": 2,
     "metadata": {},
     "output_type": "execute_result"
    }
   ],
   "source": [
    "# This a simple arithmetic expression to multiply then add integers\n",
    "(3*4)+5\n"
   ]
  },
  {
   "cell_type": "code",
   "execution_count": 3,
   "id": "28c79b39-e5f8-49af-ae2a-c58b9ee5f074",
   "metadata": {},
   "outputs": [
    {
     "data": {
      "text/plain": [
       "3.3333333333333335"
      ]
     },
     "execution_count": 3,
     "metadata": {},
     "output_type": "execute_result"
    }
   ],
   "source": [
    "# This will convert 200 minutes to hours by dividing by 60\n",
    "200 / 60\n"
   ]
  },
  {
   "cell_type": "markdown",
   "id": "de57231e-a6c2-4935-9838-a2d0abca995d",
   "metadata": {},
   "source": [
    "**Objectives:**\n",
    "\n",
    "- List popular languages for Data Science  \n",
    "- List commonly used libraries for Data Science  \n",
    "- Create tables and lists in Markdown  \n",
    "- Evaluate arithmetic expressions in Python  \n",
    "- Convert time from minutes to hours  \n"
   ]
  },
  {
   "cell_type": "markdown",
   "id": "70b7ce01-5e42-4c33-8ef0-f42df8b0cec0",
   "metadata": {},
   "source": [
    "## Author  \n",
    "Devika D\n"
   ]
  }
 ],
 "metadata": {
  "kernelspec": {
   "display_name": "Python 3 (ipykernel)",
   "language": "python",
   "name": "python3"
  },
  "language_info": {
   "codemirror_mode": {
    "name": "ipython",
    "version": 3
   },
   "file_extension": ".py",
   "mimetype": "text/x-python",
   "name": "python",
   "nbconvert_exporter": "python",
   "pygments_lexer": "ipython3",
   "version": "3.12.4"
  }
 },
 "nbformat": 4,
 "nbformat_minor": 5
}
